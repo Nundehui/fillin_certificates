{
 "cells": [
  {
   "cell_type": "code",
   "execution_count": 1,
   "metadata": {},
   "outputs": [],
   "source": [
    "from PIL import Image, ImageDraw, ImageFont\n",
    "import pandas as pd\n",
    "import os"
   ]
  },
  {
   "cell_type": "code",
   "execution_count": 2,
   "metadata": {},
   "outputs": [],
   "source": [
    "#names and dealership list\n",
    "attendance_list = pd.read_csv(\"dho_final.csv\", encoding='latin-1')"
   ]
  },
  {
   "cell_type": "code",
   "execution_count": 3,
   "metadata": {},
   "outputs": [
    {
     "name": "stdout",
     "output_type": "stream",
     "text": [
      "Original image: dho_ltemplate.png\n",
      "Size: 1056 x 816 pixels\n",
      "Mode: RGBA\n"
     ]
    }
   ],
   "source": [
    "#certificate features\n",
    "filename = \"dho_ltemplate.png\"\n",
    "\n",
    "orig_image = Image.open(filename)\n",
    "width, height = orig_image.size\n",
    "mode = orig_image.mode\n",
    "print(f\"Original image: {filename}\")\n",
    "print(f\"Size: {width} x {height} pixels\")\n",
    "print(f\"Mode: {mode}\")"
   ]
  },
  {
   "cell_type": "code",
   "execution_count": 4,
   "metadata": {},
   "outputs": [
    {
     "data": {
      "text/plain": [
       "'ANA LAURA CRUZ ACOSTA'"
      ]
     },
     "execution_count": 4,
     "metadata": {},
     "output_type": "execute_result"
    }
   ],
   "source": [
    "#edit name+family name, and pair with store\n",
    "def create_list(dealer_data):\n",
    "    clean_list = []\n",
    "    for i in range(len(dealer_data)):\n",
    "        name = dealer_data.iloc[i][\"Nombre del empleado\"].split(\",\", 1)\n",
    "        clean = name[1].strip() + \" \" + name[0]\n",
    "        clean_list.append([clean, dealer_data.iloc[i][\"Distribuidor \"]])\n",
    "    return clean_list     \n",
    "        \n",
    "create_list(attendance_list)[0]"
   ]
  },
  {
   "cell_type": "code",
   "execution_count": 24,
   "metadata": {},
   "outputs": [],
   "source": [
    "#add name and dealership to image, store certificate\n",
    "def fill_certificate(name_dealership):\n",
    "    for n in range(len(name_dealership)):\n",
    "        if len(name_dealership[n][0]) > 20:\n",
    "            image = Image.open(\"dho_ltemplate.png\")\n",
    "            font_type = ImageFont.truetype(\"coolvetica_rg.ttf\", 50)\n",
    "            font_type_dealership = ImageFont.truetype(\"Champignon.otf\", 50)\n",
    "            draw = ImageDraw.Draw(image)\n",
    "            y1 = (height / 2) - 70\n",
    "            draw.text(xy=(350, y1), text=name_dealership[n][0], fill=(0,169,224), font=font_type)\n",
    "            draw.text(xy=(350,400), text=name_dealership[n][1], fill=(126,125,139), font=font_type_dealership)\n",
    "            image.save(\"modified_certificates/{}_{}.png\".format(name_dealership[n][1], n))\n",
    "        else:\n",
    "            image = Image.open(\"dho_ltemplate.png\")\n",
    "            font_type = ImageFont.truetype(\"coolvetica_rg.ttf\", 40)\n",
    "            font_type_dealership = ImageFont.truetype(\"Champignon.otf\", 40)\n",
    "            draw = ImageDraw.Draw(image)\n",
    "            y1 = (height / 2) - 70\n",
    "            draw.text(xy=(350, y1), text=name_dealership[n][0], fill=(0,169,224), font=font_type)\n",
    "            draw.text(xy=(350,400), text=name_dealership[n][1], fill=(126,125,139), font=font_type_dealership)\n",
    "            image.save(\"modified_certificates/{}_{}.png\".format(name_dealership[n][1], n))\n",
    "                   \n",
    "fill_certificate(create_list(attendance_list))"
   ]
  },
  {
   "cell_type": "code",
   "execution_count": null,
   "metadata": {},
   "outputs": [],
   "source": [
    "######## Special cases"
   ]
  },
  {
   "cell_type": "code",
   "execution_count": 8,
   "metadata": {},
   "outputs": [],
   "source": [
    "image = Image.open(\"dho_ltemplate.png\")\n",
    "font_type = ImageFont.truetype(\"coolvetica_rg.ttf\", 40)\n",
    "font_type_dealership = ImageFont.truetype(\"Champignon.otf\", 50)\n",
    "draw = ImageDraw.Draw(image)\n",
    "y1 = (height / 2) - 70\n",
    "draw.text(xy=(350, y1), text=\"FRANCISCO PUENTE CASTELLANOS\", fill=(0,169,224), font=font_type)\n",
    "draw.text(xy=(350,400), text=\"Vehículos Automotrices de la Piedad\", fill=(126,125,139), font=font_type_dealership)\n",
    "image.save(\"modified_certificates/VehiculosAutomotricesLaPiedad_51.png\")"
   ]
  },
  {
   "cell_type": "code",
   "execution_count": 70,
   "metadata": {},
   "outputs": [],
   "source": [
    "image = Image.open(\"dho_ltemplate.png\")\n",
    "font_type = ImageFont.truetype(\"coolvetica_rg.ttf\", 50)\n",
    "font_type_dealership = ImageFont.truetype(\"Champignon.otf\", 50)\n",
    "draw = ImageDraw.Draw(image)\n",
    "y1 = (height / 2) - 70\n",
    "draw.text(xy=(320, y1), text=\"FRANCISCO PUENTE CASTELLANOS\", fill=(0,169,224), font=font_type)\n",
    "draw.text(xy=(320,400), text=\"Vehículos Automotrices de la Piedad\", fill=(126,125,139), font=font_type_dealership)\n",
    "image.save(\"modified_certificates/VehiculosAutomotricesLaPiedad_51.png\")"
   ]
  }
 ],
 "metadata": {
  "hide_input": false,
  "kernelspec": {
   "display_name": "Python 3",
   "language": "python",
   "name": "python3"
  },
  "language_info": {
   "codemirror_mode": {
    "name": "ipython",
    "version": 3
   },
   "file_extension": ".py",
   "mimetype": "text/x-python",
   "name": "python",
   "nbconvert_exporter": "python",
   "pygments_lexer": "ipython3",
   "version": "3.7.6"
  }
 },
 "nbformat": 4,
 "nbformat_minor": 4
}
